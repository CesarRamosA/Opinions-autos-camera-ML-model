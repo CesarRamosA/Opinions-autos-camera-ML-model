{
 "cells": [
  {
   "cell_type": "markdown",
   "id": "710adf0b",
   "metadata": {},
   "source": [
    "\n",
    "# Cars and cameras opinion model\n"
   ]
  },
  {
   "cell_type": "markdown",
   "id": "c555266d",
   "metadata": {},
   "source": [
    "\n",
    "### Two models are presented to determine if an opinion is about a camera or a car\n"
   ]
  },
  {
   "cell_type": "code",
   "execution_count": 1,
   "id": "663940af",
   "metadata": {},
   "outputs": [],
   "source": [
    "import pandas as pd\n",
    "from sklearn.model_selection import train_test_split\n",
    "from sklearn.feature_extraction.text import CountVectorizer\n",
    "from sklearn.tree import DecisionTreeClassifier\n",
    "from sklearn.metrics import f1_score\n",
    "from sklearn.metrics import confusion_matrix\n",
    "from sklearn import svm"
   ]
  },
  {
   "cell_type": "markdown",
   "id": "fb3506a7",
   "metadata": {},
   "source": [
    "\n",
    "## Importing the data\n"
   ]
  },
  {
   "cell_type": "markdown",
   "id": "e58950a6",
   "metadata": {},
   "source": [
    "The data used is obtained from https://www.kaggle.com/jyotiprasadpal/eopinionscom-product-reviews"
   ]
  },
  {
   "cell_type": "code",
   "execution_count": 2,
   "id": "ca08c36a",
   "metadata": {},
   "outputs": [],
   "source": [
    "#Defining the pandas from the csv \n",
    "df = pd.read_csv('cars-and-cameras-opinions.csv')"
   ]
  },
  {
   "cell_type": "markdown",
   "id": "d565b6a1",
   "metadata": {},
   "source": [
    "\n",
    "## Analyzing and optimizing the data\n"
   ]
  },
  {
   "cell_type": "code",
   "execution_count": 3,
   "id": "517f2811",
   "metadata": {},
   "outputs": [
    {
     "data": {
      "text/html": [
       "<div>\n",
       "<style scoped>\n",
       "    .dataframe tbody tr th:only-of-type {\n",
       "        vertical-align: middle;\n",
       "    }\n",
       "\n",
       "    .dataframe tbody tr th {\n",
       "        vertical-align: top;\n",
       "    }\n",
       "\n",
       "    .dataframe thead th {\n",
       "        text-align: right;\n",
       "    }\n",
       "</style>\n",
       "<table border=\"1\" class=\"dataframe\">\n",
       "  <thead>\n",
       "    <tr style=\"text-align: right;\">\n",
       "      <th></th>\n",
       "      <th>class</th>\n",
       "      <th>text</th>\n",
       "    </tr>\n",
       "  </thead>\n",
       "  <tbody>\n",
       "    <tr>\n",
       "      <th>0</th>\n",
       "      <td>Auto</td>\n",
       "      <td>I have recently purchased a J30T with moderat...</td>\n",
       "    </tr>\n",
       "    <tr>\n",
       "      <th>1</th>\n",
       "      <td>Camera</td>\n",
       "      <td>I bought this product because I need instant ...</td>\n",
       "    </tr>\n",
       "    <tr>\n",
       "      <th>2</th>\n",
       "      <td>Auto</td>\n",
       "      <td>I have owned my Buick since 53000 km and I am...</td>\n",
       "    </tr>\n",
       "    <tr>\n",
       "      <th>3</th>\n",
       "      <td>Camera</td>\n",
       "      <td>This was my first Digital camera so I did qui...</td>\n",
       "    </tr>\n",
       "    <tr>\n",
       "      <th>4</th>\n",
       "      <td>Camera</td>\n",
       "      <td>Minolta DiMAGE 7Hi is in a digital SLR with 5...</td>\n",
       "    </tr>\n",
       "    <tr>\n",
       "      <th>...</th>\n",
       "      <td>...</td>\n",
       "      <td>...</td>\n",
       "    </tr>\n",
       "    <tr>\n",
       "      <th>595</th>\n",
       "      <td>Auto</td>\n",
       "      <td>Recently our 12 year old Nissan Stanza decide...</td>\n",
       "    </tr>\n",
       "    <tr>\n",
       "      <th>596</th>\n",
       "      <td>Camera</td>\n",
       "      <td>I always do a lot of research before I buy an...</td>\n",
       "    </tr>\n",
       "    <tr>\n",
       "      <th>597</th>\n",
       "      <td>Auto</td>\n",
       "      <td>This car is an all around good buy  If you ar...</td>\n",
       "    </tr>\n",
       "    <tr>\n",
       "      <th>598</th>\n",
       "      <td>Auto</td>\n",
       "      <td>I waited to write this until I have had 4 mon...</td>\n",
       "    </tr>\n",
       "    <tr>\n",
       "      <th>599</th>\n",
       "      <td>Auto</td>\n",
       "      <td>I have been a Montero owner since about 1985 ...</td>\n",
       "    </tr>\n",
       "  </tbody>\n",
       "</table>\n",
       "<p>600 rows × 2 columns</p>\n",
       "</div>"
      ],
      "text/plain": [
       "      class                                               text\n",
       "0      Auto   I have recently purchased a J30T with moderat...\n",
       "1    Camera   I bought this product because I need instant ...\n",
       "2      Auto   I have owned my Buick since 53000 km and I am...\n",
       "3    Camera   This was my first Digital camera so I did qui...\n",
       "4    Camera   Minolta DiMAGE 7Hi is in a digital SLR with 5...\n",
       "..      ...                                                ...\n",
       "595    Auto   Recently our 12 year old Nissan Stanza decide...\n",
       "596  Camera   I always do a lot of research before I buy an...\n",
       "597    Auto   This car is an all around good buy  If you ar...\n",
       "598    Auto   I waited to write this until I have had 4 mon...\n",
       "599    Auto   I have been a Montero owner since about 1985 ...\n",
       "\n",
       "[600 rows x 2 columns]"
      ]
     },
     "execution_count": 3,
     "metadata": {},
     "output_type": "execute_result"
    }
   ],
   "source": [
    "df\n",
    "#df.info"
   ]
  },
  {
   "cell_type": "markdown",
   "id": "5bec37f6",
   "metadata": {},
   "source": [
    "\n",
    "### Checking if we have null data in the dataframe\n"
   ]
  },
  {
   "cell_type": "code",
   "execution_count": 4,
   "id": "9fdaf6d1",
   "metadata": {},
   "outputs": [
    {
     "name": "stdout",
     "output_type": "stream",
     "text": [
      "Empty DataFrame\n",
      "Columns: [class, text]\n",
      "Index: []\n"
     ]
    }
   ],
   "source": [
    "bol_null = df.isnull() #True if the value is null, False if the value is not null\n",
    "check_null = bol_null.any(axis=1) #Check if there is at least one null in an instance\n",
    "return_null = df[check_null] #Returns the rows which has null values\n",
    "print(return_null)"
   ]
  },
  {
   "cell_type": "markdown",
   "id": "ebab1777",
   "metadata": {},
   "source": [
    "\n",
    "***An empty frame is returned, so we are working with nice complete data***\n"
   ]
  },
  {
   "cell_type": "markdown",
   "id": "ce513685",
   "metadata": {},
   "source": [
    "***We can also ask if there are null values in the following way***"
   ]
  },
  {
   "cell_type": "code",
   "execution_count": 5,
   "id": "006aa732",
   "metadata": {
    "scrolled": true
   },
   "outputs": [
    {
     "data": {
      "text/plain": [
       "False"
      ]
     },
     "execution_count": 5,
     "metadata": {},
     "output_type": "execute_result"
    }
   ],
   "source": [
    "df.isnull().values.any()"
   ]
  },
  {
   "cell_type": "code",
   "execution_count": 6,
   "id": "237f2b80",
   "metadata": {},
   "outputs": [
    {
     "data": {
      "text/plain": [
       "class    0\n",
       "text     0\n",
       "dtype: int64"
      ]
     },
     "execution_count": 6,
     "metadata": {},
     "output_type": "execute_result"
    }
   ],
   "source": [
    "#Total of null values in each column\n",
    "df.isnull().sum()"
   ]
  },
  {
   "cell_type": "code",
   "execution_count": 7,
   "id": "19eb0544",
   "metadata": {},
   "outputs": [
    {
     "data": {
      "text/plain": [
       "0"
      ]
     },
     "execution_count": 7,
     "metadata": {},
     "output_type": "execute_result"
    }
   ],
   "source": [
    "#Total sum of null values\n",
    "df.isnull().sum().sum()"
   ]
  },
  {
   "cell_type": "markdown",
   "id": "57d2b05e",
   "metadata": {},
   "source": [
    "### Studying the data"
   ]
  },
  {
   "cell_type": "code",
   "execution_count": 8,
   "id": "923678dc",
   "metadata": {},
   "outputs": [
    {
     "data": {
      "text/plain": [
       "class                                                 Auto\n",
       "text      I have recently purchased a J30T with moderat...\n",
       "Name: 0, dtype: object"
      ]
     },
     "execution_count": 8,
     "metadata": {},
     "output_type": "execute_result"
    }
   ],
   "source": [
    "df.loc[0]"
   ]
  },
  {
   "cell_type": "code",
   "execution_count": 9,
   "id": "c815f66c",
   "metadata": {
    "scrolled": true
   },
   "outputs": [
    {
     "data": {
      "text/plain": [
       "class                                                                                                                                                                                                                                                                                                                                                                                                                                                                                                                                                                                                                                                                                                                                                                                                                                                                                                                                                                                                                                                                                                                                                                                                                                               Auto\n",
       "text      I have recently purchased a J30T with moderate miles  I shopped for a car that was looked after and paid more for it  As a former Auto Technician I know what to look for and what to expect yet every time I drive this car I say to my self  Dam that s a great car   and Yes I truly do  The car affords a level of style and comfort that is beyond compare for the price  I had looked at a number of J30 s with some having covered 160K miles   I checked them to see where the problems show  They were great other than just basic owner neglect The car is extremely quiet and smooth yet does not distance itself from a mild degree of sportiness  Performance is smooth yet impressive yet the power is well handled by braking and suspension systems of similar refinement The appointments available with the car were somewhat sparse yet the standard of quality and functionality were apparent  The Bose sound system for example has remarkable output and clarity without all the fancy dials  My only complaint  after 15k miles  is a lack of fold down rear seating and slightly high fuel consumption I went from driving a Porsche to the Infiniti and feel it was a step up in style and understated performance  \n",
       "Name: 0, dtype: object"
      ]
     },
     "execution_count": 9,
     "metadata": {},
     "output_type": "execute_result"
    }
   ],
   "source": [
    "pd.set_option(\"display.max_colwidth\", None) #If we want to read a complete opinion\n",
    "df.loc[0]"
   ]
  },
  {
   "cell_type": "markdown",
   "id": "44fea525",
   "metadata": {},
   "source": [
    "\n",
    "***We are also interested in how many words an opinion have***\n",
    "\n",
    "***The model will be better if we have larger opinions***\n"
   ]
  },
  {
   "cell_type": "code",
   "execution_count": 10,
   "id": "131ef0c1",
   "metadata": {},
   "outputs": [],
   "source": [
    "#We can use the space to count words, but if there are many spaces together, it will count them as three words\n",
    "#df['text'].str.count(' ')  "
   ]
  },
  {
   "cell_type": "code",
   "execution_count": 11,
   "id": "6c59bf57",
   "metadata": {},
   "outputs": [
    {
     "data": {
      "text/plain": [
       "0      221\n",
       "1      536\n",
       "2      278\n",
       "3      202\n",
       "4      974\n",
       "      ... \n",
       "595    408\n",
       "596    341\n",
       "597    158\n",
       "598    461\n",
       "599    237\n",
       "Name: text, Length: 600, dtype: int64"
      ]
     },
     "execution_count": 11,
     "metadata": {},
     "output_type": "execute_result"
    }
   ],
   "source": [
    "#To be more precise, we will use the next command to count how many words are in each opinion\n",
    "df['text'].str.split().str.len()"
   ]
  },
  {
   "cell_type": "code",
   "execution_count": 12,
   "id": "e31a4027",
   "metadata": {},
   "outputs": [
    {
     "data": {
      "text/plain": [
       "529.8733333333333"
      ]
     },
     "execution_count": 12,
     "metadata": {},
     "output_type": "execute_result"
    }
   ],
   "source": [
    "#If we want to know what is the mean number of words used in an opinion, we run the next command\n",
    "df['text'].str.split().str.len().mean()"
   ]
  },
  {
   "cell_type": "code",
   "execution_count": 13,
   "id": "7baf4ad5",
   "metadata": {},
   "outputs": [
    {
     "data": {
      "text/plain": [
       "count     600.000000\n",
       "mean      529.873333\n",
       "std       511.702057\n",
       "min        80.000000\n",
       "25%       237.000000\n",
       "50%       372.000000\n",
       "75%       620.500000\n",
       "max      4982.000000\n",
       "Name: text, dtype: float64"
      ]
     },
     "execution_count": 13,
     "metadata": {},
     "output_type": "execute_result"
    }
   ],
   "source": [
    "#A more general description of the data\n",
    "df['text'].str.split().str.len().describe()"
   ]
  },
  {
   "cell_type": "markdown",
   "id": "29faecac",
   "metadata": {},
   "source": [
    "\n",
    "***This means we are training the data with large descriptions***\n",
    "\n",
    "***The model will be efficient with large descriptions but not with short descriptions***\n"
   ]
  },
  {
   "cell_type": "code",
   "execution_count": 14,
   "id": "7f0870fd",
   "metadata": {},
   "outputs": [
    {
     "data": {
      "text/plain": [
       "Camera    350\n",
       "Auto      250\n",
       "Name: class, dtype: int64"
      ]
     },
     "execution_count": 14,
     "metadata": {},
     "output_type": "execute_result"
    }
   ],
   "source": [
    "#We now want to know how many opinions we have of each, cameras or cars\n",
    "df['class'].value_counts()"
   ]
  },
  {
   "cell_type": "markdown",
   "id": "e3d4fd33",
   "metadata": {},
   "source": [
    "***This is an acceptable proportion which can be effective for cameras and cars***"
   ]
  },
  {
   "cell_type": "markdown",
   "id": "49345144",
   "metadata": {},
   "source": [
    "\n",
    "## Model 1 - Decision Tree Classifier: Creating, training and implementing the model\n"
   ]
  },
  {
   "cell_type": "markdown",
   "id": "61504db0",
   "metadata": {},
   "source": [
    "***We will implement classification models, as we want to classify between cameras and cars***"
   ]
  },
  {
   "cell_type": "code",
   "execution_count": 15,
   "id": "516bb8e9",
   "metadata": {},
   "outputs": [],
   "source": [
    "#We have 600 opinions. We will use 70% for training and 30% for testing\n",
    "#We will give a random state and shuffle in order to avoid training the data with biased number of opinion\n",
    "\n",
    "train, test = train_test_split(df, test_size = 0.3, random_state = 128)"
   ]
  },
  {
   "cell_type": "markdown",
   "id": "503f2d78",
   "metadata": {},
   "source": [
    "\n",
    "### Verifying the split requests\n"
   ]
  },
  {
   "cell_type": "code",
   "execution_count": 16,
   "id": "e67ab514",
   "metadata": {},
   "outputs": [
    {
     "data": {
      "text/html": [
       "<div>\n",
       "<style scoped>\n",
       "    .dataframe tbody tr th:only-of-type {\n",
       "        vertical-align: middle;\n",
       "    }\n",
       "\n",
       "    .dataframe tbody tr th {\n",
       "        vertical-align: top;\n",
       "    }\n",
       "\n",
       "    .dataframe thead th {\n",
       "        text-align: right;\n",
       "    }\n",
       "</style>\n",
       "<table border=\"1\" class=\"dataframe\">\n",
       "  <thead>\n",
       "    <tr style=\"text-align: right;\">\n",
       "      <th></th>\n",
       "      <th>class</th>\n",
       "      <th>text</th>\n",
       "    </tr>\n",
       "  </thead>\n",
       "  <tbody>\n",
       "    <tr>\n",
       "      <th>371</th>\n",
       "      <td>Camera</td>\n",
       "      <td>About a year ago  I purchased a 775 from Dell...</td>\n",
       "    </tr>\n",
       "    <tr>\n",
       "      <th>421</th>\n",
       "      <td>Auto</td>\n",
       "      <td>The body of this car hasn t fallen apart whil...</td>\n",
       "    </tr>\n",
       "  </tbody>\n",
       "</table>\n",
       "</div>"
      ],
      "text/plain": [
       "      class                                               text\n",
       "371  Camera   About a year ago  I purchased a 775 from Dell...\n",
       "421    Auto   The body of this car hasn t fallen apart whil..."
      ]
     },
     "execution_count": 16,
     "metadata": {},
     "output_type": "execute_result"
    }
   ],
   "source": [
    "pd.reset_option(\"display.max_colwidth\") #To reset the width of the column\n",
    "train.head(2)"
   ]
  },
  {
   "cell_type": "code",
   "execution_count": 17,
   "id": "d492298e",
   "metadata": {},
   "outputs": [
    {
     "data": {
      "text/html": [
       "<div>\n",
       "<style scoped>\n",
       "    .dataframe tbody tr th:only-of-type {\n",
       "        vertical-align: middle;\n",
       "    }\n",
       "\n",
       "    .dataframe tbody tr th {\n",
       "        vertical-align: top;\n",
       "    }\n",
       "\n",
       "    .dataframe thead th {\n",
       "        text-align: right;\n",
       "    }\n",
       "</style>\n",
       "<table border=\"1\" class=\"dataframe\">\n",
       "  <thead>\n",
       "    <tr style=\"text-align: right;\">\n",
       "      <th></th>\n",
       "      <th>class</th>\n",
       "      <th>text</th>\n",
       "    </tr>\n",
       "  </thead>\n",
       "  <tbody>\n",
       "    <tr>\n",
       "      <th>144</th>\n",
       "      <td>Auto</td>\n",
       "      <td>Where to begin I bought this car on the recom...</td>\n",
       "    </tr>\n",
       "    <tr>\n",
       "      <th>436</th>\n",
       "      <td>Camera</td>\n",
       "      <td>I purchased this digital camera  because I am...</td>\n",
       "    </tr>\n",
       "  </tbody>\n",
       "</table>\n",
       "</div>"
      ],
      "text/plain": [
       "      class                                               text\n",
       "144    Auto   Where to begin I bought this car on the recom...\n",
       "436  Camera   I purchased this digital camera  because I am..."
      ]
     },
     "execution_count": 17,
     "metadata": {},
     "output_type": "execute_result"
    }
   ],
   "source": [
    "test.head(2)"
   ]
  },
  {
   "cell_type": "markdown",
   "id": "127d9b2d",
   "metadata": {},
   "source": [
    "***We confirm the data is shuffled***"
   ]
  },
  {
   "cell_type": "code",
   "execution_count": 18,
   "id": "7fdb576e",
   "metadata": {},
   "outputs": [
    {
     "data": {
      "text/plain": [
       "420"
      ]
     },
     "execution_count": 18,
     "metadata": {},
     "output_type": "execute_result"
    }
   ],
   "source": [
    "len(train) #420 is the 70% of 600"
   ]
  },
  {
   "cell_type": "code",
   "execution_count": 19,
   "id": "6dfd9195",
   "metadata": {},
   "outputs": [
    {
     "data": {
      "text/plain": [
       "180"
      ]
     },
     "execution_count": 19,
     "metadata": {},
     "output_type": "execute_result"
    }
   ],
   "source": [
    "len(test) #180 is the 30% of 600"
   ]
  },
  {
   "cell_type": "code",
   "execution_count": 20,
   "id": "5efb78e3",
   "metadata": {},
   "outputs": [
    {
     "data": {
      "text/plain": [
       "Camera    246\n",
       "Auto      174\n",
       "Name: class, dtype: int64"
      ]
     },
     "execution_count": 20,
     "metadata": {},
     "output_type": "execute_result"
    }
   ],
   "source": [
    "train['class'].value_counts() #The sum of camera + auto counts gives 420"
   ]
  },
  {
   "cell_type": "code",
   "execution_count": 21,
   "id": "3cdb961f",
   "metadata": {},
   "outputs": [
    {
     "data": {
      "text/plain": [
       "Camera    104\n",
       "Auto       76\n",
       "Name: class, dtype: int64"
      ]
     },
     "execution_count": 21,
     "metadata": {},
     "output_type": "execute_result"
    }
   ],
   "source": [
    "test['class'].value_counts() #The sum of camera + auto counts gives 180"
   ]
  },
  {
   "cell_type": "markdown",
   "id": "e361c6c7",
   "metadata": {},
   "source": [
    "\n",
    "### Dividing the data and storing it training and testing variables\n"
   ]
  },
  {
   "cell_type": "code",
   "execution_count": 22,
   "id": "db2fb79e",
   "metadata": {},
   "outputs": [],
   "source": [
    "X_train = train['text'].to_list()\n",
    "y_train = train['class'].to_list()\n",
    "X_test = test['text'].to_list()\n",
    "y_test = test['class'].to_list()"
   ]
  },
  {
   "cell_type": "markdown",
   "id": "1e371249",
   "metadata": {},
   "source": [
    "\n",
    "### CountVectorizer from sklearn\n"
   ]
  },
  {
   "cell_type": "markdown",
   "id": "dbd702fb",
   "metadata": {},
   "source": [
    "***To classify, we will use a bag of words model, which will classify the label by studying the words in a list***"
   ]
  },
  {
   "cell_type": "code",
   "execution_count": 23,
   "id": "ef79fd60",
   "metadata": {},
   "outputs": [],
   "source": [
    "vectorizer = CountVectorizer()\n",
    "X_train_vectors = vectorizer.fit_transform(X_train) #Learn the vocabulary dictionary and return document-term matrix\n",
    "X_test_vectors = vectorizer.transform(X_test) #Transform documents to document-term matrix"
   ]
  },
  {
   "cell_type": "code",
   "execution_count": 24,
   "id": "8d088363",
   "metadata": {},
   "outputs": [
    {
     "data": {
      "text/plain": [
       "(420, 11316)"
      ]
     },
     "execution_count": 24,
     "metadata": {},
     "output_type": "execute_result"
    }
   ],
   "source": [
    "#This tells us how many different words we have from the train data\n",
    "X_train_vectors.shape"
   ]
  },
  {
   "cell_type": "code",
   "execution_count": 25,
   "id": "d9caab8f",
   "metadata": {
    "scrolled": true
   },
   "outputs": [
    {
     "name": "stdout",
     "output_type": "stream",
     "text": [
      "  (0, 900)\t1\n",
      "  (0, 11261)\t1\n",
      "  (0, 1112)\t1\n",
      "  (0, 7973)\t1\n",
      "  (0, 777)\t2\n",
      "  (0, 4571)\t2\n",
      "  (0, 3212)\t1\n",
      "  (0, 847)\t1\n",
      "  (0, 7507)\t6\n",
      "  (0, 5898)\t1\n",
      "  (0, 4968)\t1\n",
      "  (0, 11148)\t6\n",
      "  (0, 10152)\t18\n",
      "  (0, 6614)\t1\n",
      "  (0, 9507)\t1\n",
      "  (0, 7050)\t1\n",
      "  (0, 10189)\t6\n",
      "  (0, 2114)\t9\n",
      "  (0, 466)\t1\n",
      "  (0, 1090)\t1\n",
      "  (0, 7790)\t1\n",
      "  (0, 6342)\t1\n",
      "  (0, 1750)\t1\n",
      "  (0, 1049)\t1\n",
      "  (0, 10291)\t9\n",
      "  :\t:\n",
      "  (0, 2110)\t1\n",
      "  (0, 4714)\t1\n",
      "  (0, 10731)\t1\n",
      "  (0, 6257)\t1\n",
      "  (0, 2656)\t1\n",
      "  (0, 5770)\t1\n",
      "  (0, 1120)\t1\n",
      "  (0, 10013)\t2\n",
      "  (0, 5299)\t2\n",
      "  (0, 1165)\t1\n",
      "  (0, 10018)\t1\n",
      "  (0, 2735)\t1\n",
      "  (0, 7623)\t1\n",
      "  (0, 9083)\t1\n",
      "  (0, 10159)\t1\n",
      "  (0, 7103)\t1\n",
      "  (0, 7856)\t1\n",
      "  (0, 7465)\t1\n",
      "  (0, 4319)\t1\n",
      "  (0, 10728)\t1\n",
      "  (0, 7660)\t1\n",
      "  (0, 6817)\t1\n",
      "  (0, 11201)\t1\n",
      "  (0, 10014)\t1\n",
      "  (0, 10600)\t1\n"
     ]
    }
   ],
   "source": [
    "#An example of what we have in the first opinion\n",
    "print(X_train_vectors[0])"
   ]
  },
  {
   "cell_type": "markdown",
   "id": "d0a57d61",
   "metadata": {},
   "source": [
    "\n",
    "### Implementing the Decision Tree Classifier algorithm from sklearn\n"
   ]
  },
  {
   "cell_type": "markdown",
   "id": "fc5674fd",
   "metadata": {},
   "source": [
    "\n",
    "***Decision tree will permit us classify each opinion***\n"
   ]
  },
  {
   "cell_type": "code",
   "execution_count": 26,
   "id": "f96dbc0d",
   "metadata": {},
   "outputs": [
    {
     "data": {
      "text/plain": [
       "DecisionTreeClassifier()"
      ]
     },
     "execution_count": 26,
     "metadata": {},
     "output_type": "execute_result"
    }
   ],
   "source": [
    "#Defining our classifier using the decision tree\n",
    "clf_dec = DecisionTreeClassifier()\n",
    "\n",
    "#We will use our the transformation we used from the bag of words\n",
    "clf_dec.fit(X_train_vectors, y_train) #Build a decision tree classifier from the training set (X,y)"
   ]
  },
  {
   "cell_type": "markdown",
   "id": "70035c10",
   "metadata": {},
   "source": [
    "\n",
    "### Testing the model\n"
   ]
  },
  {
   "cell_type": "code",
   "execution_count": 27,
   "id": "95f90055",
   "metadata": {},
   "outputs": [
    {
     "data": {
      "text/plain": [
       "' Where to begin I bought this car on the recommendation of a friend who has a pretty serious love affair with Volvo cars  For the first 5   6 months  the car was fine  But then   Paint Chips  Within the first 10 months  I noticed dime sized paint chips on the front of the car  Unfortunately  I didn t purchase the clear coat auto bra at the time of original purchase  To me  this was totally unacceptable  I took it to my dealer and had to argue with the service director to get it fixed  paint is not warranted  In fact  they wouldn t fix it at first  It was only when I responded to the Volvo service survey with my dissatisfaction that they agreed to fix the paint chips  During my original conversations with Curtis at Rickenbaugh Volvo  he indicated that the problem was likely my fault  asking if I follow other cars too closely Headlights  The headlights go out about every 6 months  Annoying Brakes  The car was in for work on the brakes twice within 34K miles  The power assist on the brakes failed at 15K miles  not so good when you live in the mountains  Then  the rear pads wore out at about 30K miles  Rickenbaugh Volvo Service  Mark or Jim  quoted me  460 to replace the rear brakes  A service guy in Vail  where everything is TWICE as expensive as the real world  charged me  180  and  he told me that I could drive at least another 5K miles on what I had   Volvo made it sound like my car would be unfit for the roads unless I had the brakes replaced immediately Check Engine light  The Check Engine light came on randomly during the two years that I had the car  This light required me to take the car in for service twice Service light  The service light comes on every 7 500 miles  ANNOYING  Last time I took the car in  I asked them to permanently disable the light or set it at 30 000 miles  They said they couldn t do that  which I don t really believe  I mean  c mon  you can disable you Daytime Running Lights and your airbags  but you can t disable the Service light Road Noise  Sounds like your drag racing a Mack Truck when you are on the highway  I took a roadtrip with a friend once  and the wind and road noise on the passenger side were so unbearable  that we had to stuff pillows up against the passenger window to buffer the noise Tires  I needed new tires way too early  25   30K miles  I rotate and balance my tires religiously Back hatch  The plastic molded rear hatch is supposed to be black  After about 10 months  it had oxidized to a cloudy gray  It looked bad  And  the button you press to open the hatch was cracked  I estimate in about another year  it will break off completely Handling in Snow  Forget about it  This car was sold to me as a car that would perform well in the snow  I ve never gotten stuck  but I have definitely had some concerns on snowy days  Bottom line  The car was in for service 7 times in two years  Twice  the Volvo dealer  Rickenbaugh Volvo in Denver  made a smirky  smart alek comment about how the problems were the fault of my driving  paint chips  I must follow too closely  Brakes pads wearing out  I must brake too hard  Funny  I never had problems like that with the previous cars I ve owned  a Honda Civic for seven years and a Chevy Blaze for three years Gimme a break  I wouldn t recommend this car  any Volvo  or Rickenbaugh to my worst enemy The best part of the story is that on the last service survey  I gave Volvo Rickenbaugh the poorest rating possible  and they never called me back  I guess they are content to just blow off my bad experience Really  it no longer matters  I traded in this unreliable and chattering car for a Honda just this week  '"
      ]
     },
     "execution_count": 27,
     "metadata": {},
     "output_type": "execute_result"
    }
   ],
   "source": [
    "#We will observe the first test value, which seems to be a car\n",
    "X_test[0]"
   ]
  },
  {
   "cell_type": "code",
   "execution_count": 28,
   "id": "7b0b07e0",
   "metadata": {},
   "outputs": [
    {
     "data": {
      "text/plain": [
       "array(['Auto'], dtype='<U6')"
      ]
     },
     "execution_count": 28,
     "metadata": {},
     "output_type": "execute_result"
    }
   ],
   "source": [
    "#We predict if this last opinion is a camera or an auto with the model we have made\n",
    "clf_dec.predict(X_test_vectors[0])"
   ]
  },
  {
   "cell_type": "markdown",
   "id": "350e656f",
   "metadata": {},
   "source": [
    "***The model successfully predicts that the opinion is from an auto***"
   ]
  },
  {
   "cell_type": "markdown",
   "id": "4030a35a",
   "metadata": {},
   "source": [
    "\n",
    "## Accuracy of the model\n"
   ]
  },
  {
   "cell_type": "markdown",
   "id": "9073bc87",
   "metadata": {},
   "source": [
    "We will obtain the accuracy of the model in three different ways"
   ]
  },
  {
   "cell_type": "markdown",
   "id": "3e68f5a0",
   "metadata": {},
   "source": [
    "\n",
    "### Method 1: Score\n"
   ]
  },
  {
   "cell_type": "code",
   "execution_count": 29,
   "id": "6a4a0606",
   "metadata": {},
   "outputs": [
    {
     "data": {
      "text/plain": [
       "0.9944444444444445"
      ]
     },
     "execution_count": 29,
     "metadata": {},
     "output_type": "execute_result"
    }
   ],
   "source": [
    "#We are interested in the accuracy of the model, so first we will use the score method\n",
    "clf_dec.score(X_test_vectors, y_test) #This will return the mean accuracy on the given test data and labels"
   ]
  },
  {
   "cell_type": "markdown",
   "id": "47e7fa1e",
   "metadata": {},
   "source": [
    "\n",
    "***The score is really good because we are using good data for the training***\n"
   ]
  },
  {
   "cell_type": "markdown",
   "id": "cb724a5b",
   "metadata": {},
   "source": [
    "\n",
    "### Method 2: F1 score \n"
   ]
  },
  {
   "cell_type": "code",
   "execution_count": 30,
   "id": "c547b888",
   "metadata": {},
   "outputs": [
    {
     "data": {
      "text/plain": [
       "array([0.99346405, 0.99516908])"
      ]
     },
     "execution_count": 30,
     "metadata": {},
     "output_type": "execute_result"
    }
   ],
   "source": [
    "#F1 score can be interpreted as a harmonic mean of the precision and recall\n",
    "#Best score is 1 and worst is 0\n",
    "f1_score(y_test, clf_dec.predict(X_test_vectors), average = None)"
   ]
  },
  {
   "cell_type": "markdown",
   "id": "06058e8b",
   "metadata": {},
   "source": [
    "\n",
    "***The score is around 99% for each class***\n"
   ]
  },
  {
   "cell_type": "markdown",
   "id": "496d86c8",
   "metadata": {},
   "source": [
    "\n",
    "### Method 3: Confusion matrix\n"
   ]
  },
  {
   "cell_type": "code",
   "execution_count": 31,
   "id": "8f8078ee",
   "metadata": {
    "scrolled": true
   },
   "outputs": [
    {
     "data": {
      "text/plain": [
       "array([[ 76,   0],\n",
       "       [  1, 103]], dtype=int64)"
      ]
     },
     "execution_count": 31,
     "metadata": {},
     "output_type": "execute_result"
    }
   ],
   "source": [
    "#We can use the confusion matrix also\n",
    "confusion_matrix(y_test, clf_dec.predict(X_test_vectors))"
   ]
  },
  {
   "cell_type": "markdown",
   "id": "f257c4fb",
   "metadata": {},
   "source": [
    "\n",
    "***76 true positives, 103 true negatives and 1 false negative***\n"
   ]
  },
  {
   "cell_type": "markdown",
   "id": "84dfd0d9",
   "metadata": {},
   "source": [
    "\n",
    "## Testing the model\n"
   ]
  },
  {
   "cell_type": "code",
   "execution_count": 32,
   "id": "6d7eb2d6",
   "metadata": {},
   "outputs": [
    {
     "data": {
      "text/plain": [
       "array(['Camera', 'Auto', 'Auto', 'Auto', 'Auto', 'Auto'], dtype='<U6')"
      ]
     },
     "execution_count": 32,
     "metadata": {},
     "output_type": "execute_result"
    }
   ],
   "source": [
    "#We can use a new list of opinions as a test\n",
    "#The last four opinions are obtained from internet\n",
    "#The model should predict: Camera, Auto, Auto, Auto, Camera, Auto\n",
    "\n",
    "extra_test = ['I like my camera', 'My car is not working', \n",
    "               \"The Nissan Armada isnt the newest large SUV, and its not very fuel efficient or steady on the highway, but its one of the more elegant and well equipped.\",\n",
    "               \"I will never purchase another Chevy vehicle ever again. Purchased an equinox a few years back probably a month later started having engine issues within a few months had to replace the engine all together then a few months later the brand new engine started to deteriorate and break down as well. Turns out Chevy is quite aware of the terrible issue they have with equinox and their engines however they refuse to do anything about it. Then shortly after my sister bought a Chevy truck almost brand new and shortly after that she had to replace the entire transmission for the vehicle. The Chevy brand used to be a reliable brand and a trustworthy vehicle for your family. Now there are no family values they don't care and you're on your own to deal with issues the issues.\",\n",
    "               \"This was purchased for my daughter and shes 8. She likes it and takes pics and videos. Battery last long and comes with SD card. Picture quality is good and so is video\",\n",
    "               \"Excellent acquisition, I was pleasantly surprised, the structure and suspension are dynamic, the color is what I expected and the interiors are very comfortable, my suggestion is that the audio system be a little more innovative\"]\n",
    "new_test = vectorizer.transform(extra_test)\n",
    "clf_dec.predict(new_test)"
   ]
  },
  {
   "cell_type": "markdown",
   "id": "de9bf323",
   "metadata": {},
   "source": [
    "\n",
    "***The test fails with the last prediction, resulting in 4/5 predictions correct***\n"
   ]
  },
  {
   "cell_type": "markdown",
   "id": "346097c9",
   "metadata": {},
   "source": [
    "\n",
    "## Model 2: SVM\n"
   ]
  },
  {
   "cell_type": "markdown",
   "id": "f49803ba",
   "metadata": {},
   "source": [
    "\n",
    "***We will be using the supervised ML algorithm of Support Vector Machine (SVM)***\n",
    "\n",
    "***We will use C-Support Vector Classification with a linear kernel***\n"
   ]
  },
  {
   "cell_type": "code",
   "execution_count": 33,
   "id": "5dd2c7da",
   "metadata": {},
   "outputs": [
    {
     "data": {
      "text/plain": [
       "SVC(kernel='linear')"
      ]
     },
     "execution_count": 33,
     "metadata": {},
     "output_type": "execute_result"
    }
   ],
   "source": [
    "#We will use the new classifier using SVC\n",
    "clf_svm = svm.SVC(kernel = 'linear')\n",
    "clf_svm.fit(X_train_vectors, y_train)"
   ]
  },
  {
   "cell_type": "markdown",
   "id": "59792b4b",
   "metadata": {},
   "source": [
    "\n",
    "### Accuracy of the optimized model: score\n"
   ]
  },
  {
   "cell_type": "code",
   "execution_count": 34,
   "id": "46b3c6b2",
   "metadata": {},
   "outputs": [
    {
     "data": {
      "text/plain": [
       "1.0"
      ]
     },
     "execution_count": 34,
     "metadata": {},
     "output_type": "execute_result"
    }
   ],
   "source": [
    "#We use score again to test the accuracy of the new model\n",
    "clf_svm.score(X_test_vectors, y_test)"
   ]
  },
  {
   "cell_type": "markdown",
   "id": "f714ee1f",
   "metadata": {},
   "source": [
    "\n",
    "***The accuracy is 100% with the test, as we have very good data***\n"
   ]
  },
  {
   "cell_type": "markdown",
   "id": "d0c40e05",
   "metadata": {},
   "source": [
    "\n",
    "### Testing\n"
   ]
  },
  {
   "cell_type": "code",
   "execution_count": 35,
   "id": "fb1074b5",
   "metadata": {},
   "outputs": [
    {
     "data": {
      "text/plain": [
       "array(['Auto', 'Auto', 'Auto', 'Auto', 'Auto', 'Auto'], dtype='<U6')"
      ]
     },
     "execution_count": 35,
     "metadata": {},
     "output_type": "execute_result"
    }
   ],
   "source": [
    "clf_svm.predict(new_test) "
   ]
  },
  {
   "cell_type": "markdown",
   "id": "f8d5f7e4",
   "metadata": {},
   "source": [
    "\n",
    "***Even though the model is more accurate with the testing data, it fails to predict correctly the new_test data***\n"
   ]
  },
  {
   "cell_type": "markdown",
   "id": "ee7289f2",
   "metadata": {},
   "source": [
    "\n",
    "***This way, the model was unable to detect the camera opinions***\n"
   ]
  },
  {
   "cell_type": "markdown",
   "id": "bf108429",
   "metadata": {},
   "source": [
    "\n",
    "## Corrections to the model\n"
   ]
  },
  {
   "cell_type": "markdown",
   "id": "481e4ba0",
   "metadata": {},
   "source": [
    "\n",
    "***We can make some corrections to the model***\n"
   ]
  },
  {
   "cell_type": "code",
   "execution_count": 36,
   "id": "fbdef9fd",
   "metadata": {},
   "outputs": [],
   "source": [
    "train, test = train_test_split(df, test_size = 0.33, random_state = 42)\n",
    "X_train = train['text'].to_list()\n",
    "y_train = train['class'].to_list()\n",
    "X_test = test['text'].to_list()\n",
    "y_test = test['class'].to_list()"
   ]
  },
  {
   "cell_type": "markdown",
   "id": "74eb8f75",
   "metadata": {},
   "source": [
    "\n",
    "***Now we use 67% of the data to train and 33% to test***\n",
    "\n",
    "***We also change the random state***\n"
   ]
  },
  {
   "cell_type": "markdown",
   "id": "b31ec30d",
   "metadata": {},
   "source": [
    "\n",
    "### Decision tree classifier model with new split\n"
   ]
  },
  {
   "cell_type": "code",
   "execution_count": 37,
   "id": "0841e6bb",
   "metadata": {},
   "outputs": [
    {
     "data": {
      "text/plain": [
       "0.9949494949494949"
      ]
     },
     "execution_count": 37,
     "metadata": {},
     "output_type": "execute_result"
    }
   ],
   "source": [
    "#Count vectorizer\n",
    "vectorizer = CountVectorizer()\n",
    "X_train_vectors = vectorizer.fit_transform(X_train)\n",
    "X_test_vectors = vectorizer.transform(X_test) \n",
    "\n",
    "#Decision tree classifier\n",
    "clf_dec = DecisionTreeClassifier()\n",
    "clf_dec.fit(X_train_vectors, y_train)\n",
    "\n",
    "clf_dec.score(X_test_vectors, y_test) "
   ]
  },
  {
   "cell_type": "code",
   "execution_count": 38,
   "id": "9a84e274",
   "metadata": {},
   "outputs": [
    {
     "data": {
      "text/plain": [
       "array(['Camera', 'Auto', 'Auto', 'Auto', 'Auto', 'Auto'], dtype='<U6')"
      ]
     },
     "execution_count": 38,
     "metadata": {},
     "output_type": "execute_result"
    }
   ],
   "source": [
    "extra_test = ['I like my camera', 'My car is not working', \n",
    "               \"The Nissan Armada isnt the newest large SUV, and its not very fuel efficient or steady on the highway, but its one of the more elegant and well equipped.\",\n",
    "               \"I will never purchase another Chevy vehicle ever again. Purchased an equinox a few years back probably a month later started having engine issues within a few months had to replace the engine all together then a few months later the brand new engine started to deteriorate and break down as well. Turns out Chevy is quite aware of the terrible issue they have with equinox and their engines however they refuse to do anything about it. Then shortly after my sister bought a Chevy truck almost brand new and shortly after that she had to replace the entire transmission for the vehicle. The Chevy brand used to be a reliable brand and a trustworthy vehicle for your family. Now there are no family values they don't care and you're on your own to deal with issues the issues.\",\n",
    "               \"This was purchased for my daughter and shes 8. She likes it and takes pics and videos. Battery last long and comes with SD card. Picture quality is good and so is video\",\n",
    "               \"Excellent acquisition, I was pleasantly surprised, the structure and suspension are dynamic, the color is what I expected and the interiors are very comfortable, my suggestion is that the audio system be a little more innovative\"]\n",
    "new_test = vectorizer.transform(extra_test)\n",
    "clf_dec.predict(new_test)"
   ]
  },
  {
   "cell_type": "markdown",
   "id": "3d28839d",
   "metadata": {},
   "source": [
    "\n",
    "***Decision tree classifier remains failling 1/6 predictions for new_test***\n"
   ]
  },
  {
   "cell_type": "markdown",
   "id": "41b46333",
   "metadata": {},
   "source": [
    "\n",
    "### SVM model with new split\n"
   ]
  },
  {
   "cell_type": "code",
   "execution_count": 39,
   "id": "36224bb7",
   "metadata": {},
   "outputs": [
    {
     "data": {
      "text/plain": [
       "1.0"
      ]
     },
     "execution_count": 39,
     "metadata": {},
     "output_type": "execute_result"
    }
   ],
   "source": [
    "#Support vector classifier\n",
    "clf_svm = svm.SVC(kernel = 'linear')\n",
    "clf_svm.fit(X_train_vectors, y_train)\n",
    "clf_svm.score(X_test_vectors, y_test)"
   ]
  },
  {
   "cell_type": "code",
   "execution_count": 40,
   "id": "f18c8d02",
   "metadata": {},
   "outputs": [
    {
     "data": {
      "text/plain": [
       "array(['Camera', 'Auto', 'Auto', 'Auto', 'Camera', 'Auto'], dtype='<U6')"
      ]
     },
     "execution_count": 40,
     "metadata": {},
     "output_type": "execute_result"
    }
   ],
   "source": [
    "clf_svm.predict(new_test)"
   ]
  },
  {
   "cell_type": "markdown",
   "id": "692fb8bd",
   "metadata": {},
   "source": [
    "\n",
    "***SVC with a 33% test size and new random state correctly classifies all of the new_test opinions***\n"
   ]
  },
  {
   "cell_type": "markdown",
   "id": "84e6525c",
   "metadata": {},
   "source": [
    "\n",
    "## Conclusions: \n",
    "\n",
    "- SVC appears to be a more suitable model for this opinion data\n",
    "\n",
    "- The training and testing split of the data and the random state was changed and it gave better results for the new opinions\n"
   ]
  }
 ],
 "metadata": {
  "kernelspec": {
   "display_name": "Python 3 (ipykernel)",
   "language": "python",
   "name": "python3"
  },
  "language_info": {
   "codemirror_mode": {
    "name": "ipython",
    "version": 3
   },
   "file_extension": ".py",
   "mimetype": "text/x-python",
   "name": "python",
   "nbconvert_exporter": "python",
   "pygments_lexer": "ipython3",
   "version": "3.9.7"
  }
 },
 "nbformat": 4,
 "nbformat_minor": 5
}
